{
 "metadata": {
  "language_info": {
   "codemirror_mode": {
    "name": "ipython",
    "version": 3
   },
   "file_extension": ".py",
   "mimetype": "text/x-python",
   "name": "python",
   "nbconvert_exporter": "python",
   "pygments_lexer": "ipython3",
   "version": "3.9.5-final"
  },
  "orig_nbformat": 2,
  "kernelspec": {
   "name": "python3",
   "display_name": "Python 3.9.5 64-bit",
   "metadata": {
    "interpreter": {
     "hash": "ac59ebe37160ed0dfa835113d9b8498d9f09ceb179beaac4002f036b9467c963"
    }
   }
  }
 },
 "nbformat": 4,
 "nbformat_minor": 2,
 "cells": [
  {
   "cell_type": "code",
   "execution_count": 90,
   "metadata": {},
   "outputs": [],
   "source": [
    "import pandas as pd\n",
    "import numpy as np"
   ]
  },
  {
   "cell_type": "code",
   "execution_count": 1,
   "metadata": {},
   "outputs": [],
   "source": [
    "# dataset link : https://data.sba.gov/dataset/7-a-504-foia"
   ]
  },
  {
   "cell_type": "code",
   "execution_count": 91,
   "metadata": {},
   "outputs": [],
   "source": [
    "data = pd.read_csv(\"SBA_7a.csv\", encoding = \"ISO-8859-1\", low_memory = False)"
   ]
  },
  {
   "cell_type": "code",
   "execution_count": 92,
   "metadata": {},
   "outputs": [],
   "source": [
    "df = data.copy()\n"
   ]
  },
  {
   "cell_type": "code",
   "execution_count": 93,
   "metadata": {},
   "outputs": [
    {
     "output_type": "execute_result",
     "data": {
      "text/plain": [
       "(545751, 40)"
      ]
     },
     "metadata": {},
     "execution_count": 93
    }
   ],
   "source": [
    "df.shape"
   ]
  },
  {
   "cell_type": "code",
   "execution_count": 94,
   "metadata": {},
   "outputs": [
    {
     "output_type": "execute_result",
     "data": {
      "text/plain": [
       "Index(['AsOfDate', 'Program', 'BorrName', 'BorrStreet', 'BorrCity',\n",
       "       'BorrState', 'BorrZip', 'BankName', 'BankFDICNumber', 'BankNCUANumber',\n",
       "       'BankStreet', 'BankCity', 'BankState', 'BankZip', 'GrossApproval',\n",
       "       'SBAGuaranteedApproval', 'ApprovalDate', 'ApprovalFiscalYear',\n",
       "       'FirstDisbursementDate', 'DeliveryMethod', 'subpgmdesc',\n",
       "       'InitialInterestRate', 'TermInMonths', 'NaicsCode', 'NaicsDescription',\n",
       "       'FranchiseCode', 'FranchiseName', 'ProjectCounty', 'ProjectState',\n",
       "       'SBADistrictOffice', 'CongressionalDistrict', 'BusinessType',\n",
       "       'BusinessAge', 'LoanStatus', 'PaidInFullDate', 'ChargeOffDate',\n",
       "       'GrossChargeOffAmount', 'RevolverStatus', 'JobsSupported',\n",
       "       'SOLDSECMRTIND'],\n",
       "      dtype='object')"
      ]
     },
     "metadata": {},
     "execution_count": 94
    }
   ],
   "source": [
    "df.columns"
   ]
  },
  {
   "cell_type": "code",
   "execution_count": 95,
   "metadata": {},
   "outputs": [],
   "source": [
    "df.drop(axis=1, columns= [ \"AsOfDate\",\"Program\",\"BorrStreet\",\"BorrCity\",\"BorrZip\",'BankName', 'BankFDICNumber', 'BankNCUANumber',\"ApprovalDate\",\"ProjectCounty\",\n",
    "       'BankStreet', 'BankCity', 'BankState', 'BankZip','SBADistrictOffice', 'CongressionalDistrict', 'PaidInFullDate','JobsSupported',\n",
    "       'SOLDSECMRTIND'], inplace=True)"
   ]
  },
  {
   "cell_type": "code",
   "execution_count": 96,
   "metadata": {},
   "outputs": [
    {
     "output_type": "stream",
     "name": "stdout",
     "text": [
      "<class 'pandas.core.frame.DataFrame'>\nRangeIndex: 545751 entries, 0 to 545750\nData columns (total 21 columns):\n #   Column                 Non-Null Count   Dtype  \n---  ------                 --------------   -----  \n 0   BorrName               545719 non-null  object \n 1   BorrState              545751 non-null  object \n 2   GrossApproval          545751 non-null  int64  \n 3   SBAGuaranteedApproval  545751 non-null  float64\n 4   ApprovalFiscalYear     545751 non-null  int64  \n 5   FirstDisbursementDate  481157 non-null  object \n 6   DeliveryMethod         545751 non-null  object \n 7   subpgmdesc             545751 non-null  object \n 8   InitialInterestRate    545750 non-null  float64\n 9   TermInMonths           545751 non-null  int64  \n 10  NaicsCode              545740 non-null  float64\n 11  NaicsDescription       545153 non-null  object \n 12  FranchiseCode          47615 non-null   object \n 13  FranchiseName          47514 non-null   object \n 14  ProjectState           545751 non-null  object \n 15  BusinessType           545746 non-null  object \n 16  BusinessAge            111591 non-null  object \n 17  LoanStatus             545751 non-null  object \n 18  ChargeOffDate          29596 non-null   object \n 19  GrossChargeOffAmount   545751 non-null  int64  \n 20  RevolverStatus         545751 non-null  int64  \ndtypes: float64(3), int64(5), object(13)\nmemory usage: 87.4+ MB\n"
     ]
    }
   ],
   "source": [
    "df.info()"
   ]
  },
  {
   "cell_type": "code",
   "execution_count": 97,
   "metadata": {},
   "outputs": [
    {
     "output_type": "execute_result",
     "data": {
      "text/plain": [
       "(545751, 21)"
      ]
     },
     "metadata": {},
     "execution_count": 97
    }
   ],
   "source": [
    "df.shape\n"
   ]
  },
  {
   "source": [
    "# handling  target colnum (LoanStatus)"
   ],
   "cell_type": "markdown",
   "metadata": {}
  },
  {
   "cell_type": "code",
   "execution_count": 98,
   "metadata": {},
   "outputs": [
    {
     "output_type": "execute_result",
     "data": {
      "text/plain": [
       "LoanStatus\n",
       "PIF       342177\n",
       "EXEMPT    107173\n",
       "CANCLD     66113\n",
       "CHGOFF     29598\n",
       "COMMIT       690\n",
       "Name: count, dtype: int64"
      ]
     },
     "metadata": {},
     "execution_count": 98
    }
   ],
   "source": [
    "df.LoanStatus.value_counts()"
   ]
  },
  {
   "source": [
    "#selecting Target colunms \n",
    "\n",
    "where \"PIF\" refers  to  non Defaulter\n",
    "\n",
    "where  \"CHGOFF\" refers to Defaulter "
   ],
   "cell_type": "markdown",
   "metadata": {}
  },
  {
   "cell_type": "code",
   "execution_count": 99,
   "metadata": {},
   "outputs": [],
   "source": [
    "df.drop( df[( (df.LoanStatus == \"EXEMPT\" )| (df.LoanStatus == \"CANCLD\") | (df.LoanStatus == \"COMMIT\") )].index, inplace= True)\n"
   ]
  },
  {
   "cell_type": "code",
   "execution_count": 100,
   "metadata": {},
   "outputs": [
    {
     "output_type": "execute_result",
     "data": {
      "text/plain": [
       "LoanStatus\n",
       "PIF       342177\n",
       "CHGOFF     29598\n",
       "Name: count, dtype: int64"
      ]
     },
     "metadata": {},
     "execution_count": 100
    }
   ],
   "source": [
    "df.LoanStatus.value_counts()"
   ]
  },
  {
   "cell_type": "code",
   "execution_count": 101,
   "metadata": {},
   "outputs": [
    {
     "output_type": "execute_result",
     "data": {
      "text/plain": [
       "(371775, 21)"
      ]
     },
     "metadata": {},
     "execution_count": 101
    }
   ],
   "source": [
    "df.shape"
   ]
  },
  {
   "source": [
    "# handling  duplicate data"
   ],
   "cell_type": "markdown",
   "metadata": {}
  },
  {
   "cell_type": "code",
   "execution_count": 102,
   "metadata": {},
   "outputs": [
    {
     "output_type": "execute_result",
     "data": {
      "text/plain": [
       "False    371301\n",
       "True        474\n",
       "Name: count, dtype: int64"
      ]
     },
     "metadata": {},
     "execution_count": 102
    }
   ],
   "source": [
    "df.duplicated().value_counts()\n"
   ]
  },
  {
   "cell_type": "code",
   "execution_count": 103,
   "metadata": {},
   "outputs": [
    {
     "output_type": "execute_result",
     "data": {
      "text/plain": [
       "(371775, 21)"
      ]
     },
     "metadata": {},
     "execution_count": 103
    }
   ],
   "source": [
    "df.shape"
   ]
  },
  {
   "cell_type": "code",
   "execution_count": 104,
   "metadata": {},
   "outputs": [],
   "source": [
    "df.drop_duplicates(inplace=True)"
   ]
  },
  {
   "cell_type": "code",
   "execution_count": 105,
   "metadata": {},
   "outputs": [
    {
     "output_type": "execute_result",
     "data": {
      "text/plain": [
       "(371301, 21)"
      ]
     },
     "metadata": {},
     "execution_count": 105
    }
   ],
   "source": [
    "df.shape"
   ]
  },
  {
   "source": [
    "# handling  Null values"
   ],
   "cell_type": "markdown",
   "metadata": {}
  },
  {
   "cell_type": "code",
   "execution_count": 106,
   "metadata": {},
   "outputs": [
    {
     "output_type": "execute_result",
     "data": {
      "text/plain": [
       "BorrName                  0.00\n",
       "BorrState                 0.00\n",
       "GrossApproval             0.00\n",
       "SBAGuaranteedApproval     0.00\n",
       "ApprovalFiscalYear        0.00\n",
       "FirstDisbursementDate     0.30\n",
       "DeliveryMethod            0.00\n",
       "subpgmdesc                0.00\n",
       "InitialInterestRate       0.00\n",
       "TermInMonths              0.00\n",
       "NaicsCode                 0.00\n",
       "NaicsDescription          0.08\n",
       "FranchiseCode            91.96\n",
       "FranchiseName            91.97\n",
       "ProjectState              0.00\n",
       "BusinessType              0.00\n",
       "BusinessAge              87.41\n",
       "LoanStatus                0.00\n",
       "ChargeOffDate            92.03\n",
       "GrossChargeOffAmount      0.00\n",
       "RevolverStatus            0.00\n",
       "dtype: float64"
      ]
     },
     "metadata": {},
     "execution_count": 106
    }
   ],
   "source": [
    "round((df.isnull().sum()*100)/len(df),2)\n"
   ]
  },
  {
   "source": [
    "# handling  Franchise colunms"
   ],
   "cell_type": "markdown",
   "metadata": {}
  },
  {
   "source": [
    "###created new colunm \"Franchise\" from FranchiseName###\n",
    "\n",
    "which reflects if the business is Franchise based or not \n",
    "\n",
    "it is encoded as\n",
    "\n",
    "    Franchise based = 1\n",
    "\n",
    "    non - Franchise based = 0 \n",
    "\n",
    "\n"
   ],
   "cell_type": "markdown",
   "metadata": {}
  },
  {
   "cell_type": "code",
   "execution_count": 107,
   "metadata": {},
   "outputs": [],
   "source": [
    "df[\"Franchise\"] = df.FranchiseName.notnull().astype(int)"
   ]
  },
  {
   "cell_type": "code",
   "execution_count": 108,
   "metadata": {},
   "outputs": [
    {
     "output_type": "execute_result",
     "data": {
      "text/plain": [
       "Franchise\n",
       "0    341492\n",
       "1     29809\n",
       "Name: count, dtype: int64"
      ]
     },
     "metadata": {},
     "execution_count": 108
    }
   ],
   "source": [
    "df.Franchise.value_counts()"
   ]
  },
  {
   "source": [
    " dropping   colunms - FranchiseCode , FranchiseName   \n",
    "\n",
    " reason - we have new colunms of if the business is Franchise based or not , this both colunms redundant    "
   ],
   "cell_type": "markdown",
   "metadata": {}
  },
  {
   "cell_type": "code",
   "execution_count": 109,
   "metadata": {},
   "outputs": [],
   "source": [
    "df.drop(axis=1, columns=[\"FranchiseCode\" , \"FranchiseName\"], inplace=True)"
   ]
  },
  {
   "cell_type": "code",
   "execution_count": 110,
   "metadata": {},
   "outputs": [
    {
     "output_type": "execute_result",
     "data": {
      "text/plain": [
       "(371301, 20)"
      ]
     },
     "metadata": {},
     "execution_count": 110
    }
   ],
   "source": [
    "df.shape"
   ]
  },
  {
   "source": [
    " dropping   colunms - ChargeOffDate , FirstDisbursementDate\n",
    "\n",
    " reason -more than 90% is  missing values "
   ],
   "cell_type": "markdown",
   "metadata": {}
  },
  {
   "cell_type": "code",
   "execution_count": 111,
   "metadata": {},
   "outputs": [],
   "source": [
    "df.drop(axis=1, columns=[\"ChargeOffDate\"], inplace=True)"
   ]
  },
  {
   "cell_type": "code",
   "execution_count": 112,
   "metadata": {},
   "outputs": [
    {
     "output_type": "execute_result",
     "data": {
      "text/plain": [
       "(371301, 19)"
      ]
     },
     "metadata": {},
     "execution_count": 112
    }
   ],
   "source": [
    "df.shape\n"
   ]
  },
  {
   "cell_type": "code",
   "execution_count": 113,
   "metadata": {},
   "outputs": [],
   "source": [
    "df.drop(axis=1, columns=[\"FirstDisbursementDate\"], inplace=True)"
   ]
  },
  {
   "cell_type": "code",
   "execution_count": 114,
   "metadata": {},
   "outputs": [
    {
     "output_type": "execute_result",
     "data": {
      "text/plain": [
       "BorrName                  0.00\n",
       "BorrState                 0.00\n",
       "GrossApproval             0.00\n",
       "SBAGuaranteedApproval     0.00\n",
       "ApprovalFiscalYear        0.00\n",
       "DeliveryMethod            0.00\n",
       "subpgmdesc                0.00\n",
       "InitialInterestRate       0.00\n",
       "TermInMonths              0.00\n",
       "NaicsCode                 0.00\n",
       "NaicsDescription          0.08\n",
       "ProjectState              0.00\n",
       "BusinessType              0.00\n",
       "BusinessAge              87.41\n",
       "LoanStatus                0.00\n",
       "GrossChargeOffAmount      0.00\n",
       "RevolverStatus            0.00\n",
       "Franchise                 0.00\n",
       "dtype: float64"
      ]
     },
     "metadata": {},
     "execution_count": 114
    }
   ],
   "source": [
    "round((df.isnull().sum()*100)/len(df),2)\n"
   ]
  },
  {
   "cell_type": "code",
   "execution_count": 115,
   "metadata": {},
   "outputs": [],
   "source": [
    "df.dropna(inplace=True)"
   ]
  },
  {
   "source": [
    "# loanType"
   ],
   "cell_type": "markdown",
   "metadata": {}
  },
  {
   "source": [
    "creating new column   for loan type using  \"DeliveryMethod\",\"subpgmdesc\"\n",
    "\n",
    "so now those two column become redundent so dropping it"
   ],
   "cell_type": "markdown",
   "metadata": {}
  },
  {
   "cell_type": "code",
   "execution_count": 116,
   "metadata": {},
   "outputs": [
    {
     "output_type": "execute_result",
     "data": {
      "text/plain": [
       "DeliveryMethod  subpgmdesc                                       \n",
       "CA              Community Advantage Initiative                         756\n",
       "EWCP            Revolving Line of Credit Exports - Sec. 7(a) (14)      272\n",
       "EXPRES EXP      FA$TRK (Small Loan Express)                             53\n",
       "INTER TRDE      International Trade - Sec, 7(a) (16)                   166\n",
       "OTH 7A          Contract Guaranty                                       83\n",
       "                Guaranty                                              2762\n",
       "                International Trade - Sec, 7(a) (16)                     3\n",
       "                Seasonal Line of Credit                                 14\n",
       "                Small General Contractors - Sec. 7(a) (9)                3\n",
       "                Standard Asset Based                                   245\n",
       "PLP             Guaranty                                             18039\n",
       "SBA EXPRES      FA$TRK (Small Loan Express)                          24151\n",
       "Name: count, dtype: int64"
      ]
     },
     "metadata": {},
     "execution_count": 116
    }
   ],
   "source": [
    "df.groupby([\"DeliveryMethod\",\"subpgmdesc\"])[\"DeliveryMethod\"].value_counts()"
   ]
  },
  {
   "source": [
    "# DeliveryMethod  subpgmdesc    \n",
    "\n",
    "# 7A Basic \n",
    "#     CLP             Guaranty                                               1910\n",
    "#     RLA             Rural Lender Advantage                                 2608\n",
    "#     SLA             Guaranty                                                  1\n",
    "#                     Lender Advantage Initiative                           21646\n",
    "#     PLP             Guaranty                                             100578\n",
    "#     SBA EXPRES      FA$TRK (Small Loan Express)                          195622\n",
    "#         EXPRES EXP      FA$TRK (Small Loan Express)                            1109\n",
    "\n",
    "#     OTH 7A          \n",
    "#                      Guaranty                                              27452\n",
    "\n",
    "# Pilot loan program \n",
    "#     COMM EXPRS      Community Express                                      5100\n",
    "#     CA              Community Advantage Initiative                         3155\n",
    "#     PATRIOT EX      Patriot Express                                        5428\n",
    "\n",
    "# Internation Trades\n",
    "#                     International Trade - Sec, 7(a) (16)                    824\n",
    "#                     International Trade - Sec, 7(a) (16)                      3\n",
    "#                     Revolving Line of Credit Exports - Sec. 7(a) (14)      1409\n",
    "#     GO LOANS        Gulf Opportunity                                       1462\n",
    "\n",
    "\n",
    "\n",
    "# CAPlines\n",
    "#     OTH 7A          Seasonal Line of Credit                                 135\n",
    "#                     Small Asset Based                                        34\n",
    "#                     Small General Contractors - Sec. 7(a) (9)               100\n",
    "#                     Standard Asset Based                                   2239\n",
    "#                     Contract Guaranty                                       414\n",
    "#     DFP             509 - DEALER FLOOR PLAN                                  93\n",
    "                    \n",
    "\n",
    "\n",
    "\n",
    "\n",
    "\n",
    "\n",
    "\n",
    "# EXIM            EXPORT IMPORT HARMONIZATION                               8\n",
    "\n",
    "\n",
    "\n",
    "                \n",
    "#                 Revolving Line of Credit Exports - Sec. 7(a) (14)         1\n",
    "                \n",
    "\n",
    "\n",
    "\n"
   ],
   "cell_type": "code",
   "metadata": {},
   "execution_count": 117,
   "outputs": []
  },
  {
   "cell_type": "code",
   "execution_count": 118,
   "metadata": {},
   "outputs": [
    {
     "output_type": "execute_result",
     "data": {
      "text/plain": [
       "array(['FA$TRK (Small Loan Express)', 'Guaranty',\n",
       "       'Revolving Line of Credit Exports - Sec. 7(a) (14)',\n",
       "       'International Trade - Sec, 7(a) (16)',\n",
       "       'Community Advantage Initiative', 'Standard Asset Based',\n",
       "       'Contract Guaranty', 'Seasonal Line of Credit',\n",
       "       'Small General Contractors - Sec. 7(a) (9)'], dtype=object)"
      ]
     },
     "metadata": {},
     "execution_count": 118
    }
   ],
   "source": [
    "df.subpgmdesc.unique()"
   ]
  },
  {
   "cell_type": "code",
   "execution_count": 119,
   "metadata": {},
   "outputs": [],
   "source": [
    "df.subpgmdesc = df.subpgmdesc.replace(['Guaranty','Rural Lender Advantage','Lender Advantage Initiative', 'FA$TRK (Small Loan Express)' ], \"7A basic\")\n",
    "df.subpgmdesc = df.subpgmdesc.replace(['Community Express', 'Community Advantage Initiative', 'Patriot Express' ], \"Pilot loan program\")\n",
    "df.subpgmdesc = df.subpgmdesc.replace([\"International Trade - Sec, 7(a) (16)\", \"Revolving Line of Credit Exports - Sec. 7(a) (14)\",\"Gulf Opportunity\" ], \"International Trades\")\n",
    "df.subpgmdesc = df.subpgmdesc.replace([\"Seasonal Line of Credit\",\"Small Asset Based\",\"Small General Contractors - Sec. 7(a) (9)\",\"Standard Asset Based\" , \"Contract Guaranty\", \"509 - DEALER FLOOR PLAN\"], \"CAPlines\")\n"
   ]
  },
  {
   "cell_type": "code",
   "execution_count": 120,
   "metadata": {},
   "outputs": [],
   "source": [
    "# droping this value \"EXPORT IMPORT HARMONIZATION\" as it does not follow into any of category loan type from our literature  survey and also it has recode of 8 values which is insigificant"
   ]
  },
  {
   "cell_type": "code",
   "execution_count": 121,
   "metadata": {},
   "outputs": [],
   "source": [
    "df.drop( df[( (df.subpgmdesc == 'EXPORT IMPORT HARMONIZATION' ) )].index, inplace= True )"
   ]
  },
  {
   "cell_type": "code",
   "execution_count": 122,
   "metadata": {},
   "outputs": [
    {
     "output_type": "execute_result",
     "data": {
      "text/plain": [
       "subpgmdesc\n",
       "7A basic                45005\n",
       "Pilot loan program        756\n",
       "International Trades      441\n",
       "CAPlines                  345\n",
       "Name: count, dtype: int64"
      ]
     },
     "metadata": {},
     "execution_count": 122
    }
   ],
   "source": [
    "df.subpgmdesc.value_counts()"
   ]
  },
  {
   "cell_type": "code",
   "execution_count": 123,
   "metadata": {},
   "outputs": [
    {
     "output_type": "stream",
     "name": "stdout",
     "text": [
      "<class 'pandas.core.frame.DataFrame'>\nIndex: 46547 entries, 433490 to 545748\nData columns (total 18 columns):\n #   Column                 Non-Null Count  Dtype  \n---  ------                 --------------  -----  \n 0   BorrName               46547 non-null  object \n 1   BorrState              46547 non-null  object \n 2   GrossApproval          46547 non-null  int64  \n 3   SBAGuaranteedApproval  46547 non-null  float64\n 4   ApprovalFiscalYear     46547 non-null  int64  \n 5   DeliveryMethod         46547 non-null  object \n 6   subpgmdesc             46547 non-null  object \n 7   InitialInterestRate    46547 non-null  float64\n 8   TermInMonths           46547 non-null  int64  \n 9   NaicsCode              46547 non-null  float64\n 10  NaicsDescription       46547 non-null  object \n 11  ProjectState           46547 non-null  object \n 12  BusinessType           46547 non-null  object \n 13  BusinessAge            46547 non-null  object \n 14  LoanStatus             46547 non-null  object \n 15  GrossChargeOffAmount   46547 non-null  int64  \n 16  RevolverStatus         46547 non-null  int64  \n 17  Franchise              46547 non-null  int32  \ndtypes: float64(3), int32(1), int64(5), object(9)\nmemory usage: 6.6+ MB\n"
     ]
    }
   ],
   "source": [
    "df.info()"
   ]
  },
  {
   "cell_type": "code",
   "execution_count": 124,
   "metadata": {},
   "outputs": [],
   "source": [
    "df.rename(columns = {'subpgmdesc':'loan_type'}, inplace = True) \n"
   ]
  },
  {
   "source": [
    "creating new column   for loan type using  \"DeliveryMethod\",\"subpgmdesc\"\n",
    "\n",
    "so now those DeliveryMethod column become redundent so dropping it"
   ],
   "cell_type": "markdown",
   "metadata": {}
  },
  {
   "cell_type": "code",
   "execution_count": 125,
   "metadata": {},
   "outputs": [],
   "source": [
    "df.drop(axis=1, columns=\"DeliveryMethod\", inplace=True)"
   ]
  },
  {
   "source": [
    "# emcoding  BusinessAge"
   ],
   "cell_type": "markdown",
   "metadata": {}
  },
  {
   "cell_type": "code",
   "execution_count": 126,
   "metadata": {},
   "outputs": [
    {
     "output_type": "execute_result",
     "data": {
      "text/plain": [
       "array(['Existing, 5 or more years', 'New, Less than 1 Year old',\n",
       "       'Startup, Loan Funds will Open Business',\n",
       "       'Less than 3 years old but at least 2',\n",
       "       'Less than 5 years old but at least 4', 'Unanswered',\n",
       "       'Less than 4 years old but at least 3',\n",
       "       'Existing or more than 2 years old', 'Change of Ownership',\n",
       "       'New Business or 2 years or less'], dtype=object)"
      ]
     },
     "metadata": {},
     "execution_count": 126
    }
   ],
   "source": [
    "df.BusinessAge.unique()"
   ]
  },
  {
   "source": [
    "Encoding logic\n",
    "\n",
    "\n",
    " \n",
    "'New Business or 2 years or less' = 1\n",
    "\n",
    "'New, Less than 1 Year old' = 0\n",
    "\n",
    "'Startup, Loan Funds will Open Business' = 0\n",
    "\n",
    "'Existing or more than 2 years old' = 2\n",
    "\n",
    "'Less than 3 years old but at least 2' = 2\n",
    "\n",
    "'Less than 4 years old but at least 3' = 3\n",
    "\n",
    "'Less than 5 years old but at least 4' = 4\n",
    "\n",
    "\"Existing, 5 or more years' = 5 \n"
   ],
   "cell_type": "markdown",
   "metadata": {}
  },
  {
   "cell_type": "code",
   "execution_count": 127,
   "metadata": {},
   "outputs": [],
   "source": [
    "\n",
    "\n",
    "df.BusinessAge = df.BusinessAge.replace(['New, Less than 1 Year old', 'Startup, Loan Funds will Open Business'], 0)\n",
    "df.BusinessAge = df.BusinessAge.replace(['New Business or 2 years or less'], 1)\n",
    "df.BusinessAge = df.BusinessAge.replace(['Less than 3 years old but at least 2', 'Existing or more than 2 years old'], 2)\n",
    "df.BusinessAge = df.BusinessAge.replace(['Less than 4 years old but at least 3'], 3)\n",
    "df.BusinessAge = df.BusinessAge.replace(['Less than 5 years old but at least 4'], 4)\n",
    "df.BusinessAge = df.BusinessAge.replace([\"Existing, 5 or more years\"], 5)\n"
   ]
  },
  {
   "cell_type": "code",
   "execution_count": 128,
   "metadata": {},
   "outputs": [
    {
     "output_type": "execute_result",
     "data": {
      "text/plain": [
       "array([5, 0, 2, 4, 'Unanswered', 3, 'Change of Ownership', 1],\n",
       "      dtype=object)"
      ]
     },
     "metadata": {},
     "execution_count": 128
    }
   ],
   "source": [
    "df.BusinessAge.unique()"
   ]
  },
  {
   "cell_type": "code",
   "execution_count": 129,
   "metadata": {},
   "outputs": [],
   "source": [
    "# deleting unrelavent value rows\n",
    "\n",
    "df.drop( df[( (df.BusinessAge == 'Unanswered' )| (df.BusinessAge == 'Change of Ownership' ) )].index, inplace= True )\n"
   ]
  },
  {
   "cell_type": "code",
   "execution_count": 130,
   "metadata": {},
   "outputs": [
    {
     "output_type": "execute_result",
     "data": {
      "text/plain": [
       "BusinessAge\n",
       "2    22285\n",
       "0     8468\n",
       "5     3606\n",
       "3      515\n",
       "4      410\n",
       "1       11\n",
       "Name: count, dtype: int64"
      ]
     },
     "metadata": {},
     "execution_count": 130
    }
   ],
   "source": [
    "df.BusinessAge.value_counts()\n"
   ]
  },
  {
   "cell_type": "code",
   "execution_count": 131,
   "metadata": {},
   "outputs": [
    {
     "output_type": "execute_result",
     "data": {
      "text/plain": [
       "(35295, 17)"
      ]
     },
     "metadata": {},
     "execution_count": 131
    }
   ],
   "source": [
    "df.shape"
   ]
  },
  {
   "cell_type": "code",
   "execution_count": 132,
   "metadata": {},
   "outputs": [
    {
     "output_type": "execute_result",
     "data": {
      "text/plain": [
       "BorrName                 0.0\n",
       "BorrState                0.0\n",
       "GrossApproval            0.0\n",
       "SBAGuaranteedApproval    0.0\n",
       "ApprovalFiscalYear       0.0\n",
       "loan_type                0.0\n",
       "InitialInterestRate      0.0\n",
       "TermInMonths             0.0\n",
       "NaicsCode                0.0\n",
       "NaicsDescription         0.0\n",
       "ProjectState             0.0\n",
       "BusinessType             0.0\n",
       "BusinessAge              0.0\n",
       "LoanStatus               0.0\n",
       "GrossChargeOffAmount     0.0\n",
       "RevolverStatus           0.0\n",
       "Franchise                0.0\n",
       "dtype: float64"
      ]
     },
     "metadata": {},
     "execution_count": 132
    }
   ],
   "source": [
    "round((df.isnull().sum()*100)/len(df),2)"
   ]
  },
  {
   "cell_type": "code",
   "execution_count": 133,
   "metadata": {},
   "outputs": [
    {
     "output_type": "execute_result",
     "data": {
      "text/plain": [
       "BusinessAge\n",
       "False    35295\n",
       "Name: count, dtype: int64"
      ]
     },
     "metadata": {},
     "execution_count": 133
    }
   ],
   "source": [
    "df['BusinessAge'].isnull().value_counts()"
   ]
  },
  {
   "cell_type": "code",
   "execution_count": null,
   "metadata": {},
   "outputs": [],
   "source": []
  },
  {
   "source": [
    "# BorrState"
   ],
   "cell_type": "markdown",
   "metadata": {}
  },
  {
   "cell_type": "code",
   "execution_count": 134,
   "metadata": {},
   "outputs": [
    {
     "output_type": "execute_result",
     "data": {
      "text/plain": [
       "array(['OH', 'ID', 'MI', 'NJ', 'WA', 'CA', 'AZ', 'PA', 'DC', 'NC', 'MN',\n",
       "       'MA', 'UT', 'NY', 'TX', 'MO', 'FL', 'LA', 'IA', 'DE', 'SD', 'OR',\n",
       "       'WI', 'RI', 'MT', 'IL', 'TN', 'NM', 'AK', 'NE', 'CO', 'MD', 'OK',\n",
       "       'SC', 'KY', 'IN', 'ME', 'GA', 'PR', 'KS', 'VA', 'NV', 'MS', 'NH',\n",
       "       'CT', 'AL', 'HI', 'VT', 'AR', 'ND', 'WY', 'GU', 'WV', 'VI'],\n",
       "      dtype=object)"
      ]
     },
     "metadata": {},
     "execution_count": 134
    }
   ],
   "source": [
    "df.BorrState.unique()"
   ]
  },
  {
   "cell_type": "code",
   "execution_count": 135,
   "metadata": {},
   "outputs": [],
   "source": [
    "State = pd.read_excel(\"us state code.xlsx\")\n",
    "State.drop(axis=1 ,columns=[\"Unnamed: 0\"], inplace=True  )"
   ]
  },
  {
   "cell_type": "code",
   "execution_count": 136,
   "metadata": {},
   "outputs": [
    {
     "output_type": "stream",
     "name": "stdout",
     "text": [
      "<class 'pandas.core.frame.DataFrame'>\nRangeIndex: 51 entries, 0 to 50\nData columns (total 2 columns):\n #   Column        Non-Null Count  Dtype \n---  ------        --------------  ----- \n 0   State         51 non-null     object\n 1   Abbreviation  51 non-null     object\ndtypes: object(2)\nmemory usage: 944.0+ bytes\n"
     ]
    }
   ],
   "source": [
    "State.info()"
   ]
  },
  {
   "cell_type": "code",
   "execution_count": 137,
   "metadata": {},
   "outputs": [
    {
     "output_type": "execute_result",
     "data": {
      "text/plain": [
       "        State Abbreviation\n",
       "0     Alabama           AL\n",
       "1      Alaska           AK\n",
       "2     Arizona           AZ\n",
       "3    Arkansas           AR\n",
       "4  California           CA"
      ],
      "text/html": "<div>\n<style scoped>\n    .dataframe tbody tr th:only-of-type {\n        vertical-align: middle;\n    }\n\n    .dataframe tbody tr th {\n        vertical-align: top;\n    }\n\n    .dataframe thead th {\n        text-align: right;\n    }\n</style>\n<table border=\"1\" class=\"dataframe\">\n  <thead>\n    <tr style=\"text-align: right;\">\n      <th></th>\n      <th>State</th>\n      <th>Abbreviation</th>\n    </tr>\n  </thead>\n  <tbody>\n    <tr>\n      <th>0</th>\n      <td>Alabama</td>\n      <td>AL</td>\n    </tr>\n    <tr>\n      <th>1</th>\n      <td>Alaska</td>\n      <td>AK</td>\n    </tr>\n    <tr>\n      <th>2</th>\n      <td>Arizona</td>\n      <td>AZ</td>\n    </tr>\n    <tr>\n      <th>3</th>\n      <td>Arkansas</td>\n      <td>AR</td>\n    </tr>\n    <tr>\n      <th>4</th>\n      <td>California</td>\n      <td>CA</td>\n    </tr>\n  </tbody>\n</table>\n</div>"
     },
     "metadata": {},
     "execution_count": 137
    }
   ],
   "source": [
    "State.head()"
   ]
  },
  {
   "cell_type": "code",
   "execution_count": 138,
   "metadata": {},
   "outputs": [],
   "source": [
    "\n",
    "# Create a mapping dictionary from NAICS DataFrame\n",
    "mapping_dict_1 = dict(zip( State[\"Abbreviation\"], State[\"State\"] ))\n",
    "\n",
    "# Replace values in the \"industry\" column using the mapping dictionary\n",
    "df[\"BorrState\"] = df[\"BorrState\"].replace(mapping_dict_1)"
   ]
  },
  {
   "cell_type": "code",
   "execution_count": 139,
   "metadata": {},
   "outputs": [
    {
     "output_type": "execute_result",
     "data": {
      "text/plain": [
       "array(['Ohio', 'Idaho', 'Michigan', 'New Jersey', 'Washington',\n",
       "       'California', 'Arizona', 'Pennsylvania', 'District of Columbia',\n",
       "       'North Carolina', 'Minnesota', 'Massachusetts', 'Utah', 'New York',\n",
       "       'Texas', 'Missouri', 'Florida', 'Louisiana', 'Iowa', 'Delaware',\n",
       "       'South Dakota', 'Oregon', 'Wisconsin', 'Rhode Island', 'Montana',\n",
       "       'Illinois', 'Tennessee', 'New Mexico', 'Alaska', 'Nebraska',\n",
       "       'Colorado', 'Maryland', 'Oklahoma', 'South Carolina', 'Kentucky',\n",
       "       'Indiana', 'Maine', 'Georgia', 'PR', 'Kansas', 'Virginia',\n",
       "       'Nevada', 'Mississippi', 'New Hampshire', 'Connecticut', 'Alabama',\n",
       "       'Hawaii', 'Vermont', 'Arkansas', 'North Dakota', 'Wyoming', 'GU',\n",
       "       'West Virginia', 'VI'], dtype=object)"
      ]
     },
     "metadata": {},
     "execution_count": 139
    }
   ],
   "source": [
    "df.BorrState.unique()"
   ]
  },
  {
   "source": [
    "# projectstate"
   ],
   "cell_type": "markdown",
   "metadata": {}
  },
  {
   "cell_type": "code",
   "execution_count": 140,
   "metadata": {},
   "outputs": [
    {
     "output_type": "execute_result",
     "data": {
      "text/plain": [
       "array(['OH', 'ID', 'MI', 'NJ', 'WA', 'CA', 'AZ', 'PA', 'DC', 'NC', 'MN',\n",
       "       'MA', 'UT', 'NY', 'TX', 'MO', 'FL', 'LA', 'IA', 'DE', 'SD', 'OR',\n",
       "       'WI', 'RI', 'MT', 'IL', 'TN', 'NM', 'AK', 'NE', 'CO', 'MD', 'OK',\n",
       "       'SC', 'KY', 'IN', 'ME', 'GA', 'PR', 'KS', 'VA', 'NV', 'MS', 'NH',\n",
       "       'CT', 'AL', 'HI', 'VT', 'AR', 'ND', 'WY', 'GU', 'WV', 'VI'],\n",
       "      dtype=object)"
      ]
     },
     "metadata": {},
     "execution_count": 140
    }
   ],
   "source": [
    "df.ProjectState.unique()"
   ]
  },
  {
   "cell_type": "code",
   "execution_count": 141,
   "metadata": {},
   "outputs": [],
   "source": [
    "\n",
    "# Create a mapping dictionary from NAICS DataFrame\n",
    "mapping_dict_1 = dict(zip( State[\"Abbreviation\"], State[\"State\"] ))\n",
    "\n",
    "# Replace values in the \"industry\" column using the mapping dictionary\n",
    "df[\"ProjectState\"] = df[\"ProjectState\"].replace(mapping_dict_1)"
   ]
  },
  {
   "cell_type": "code",
   "execution_count": 142,
   "metadata": {},
   "outputs": [
    {
     "output_type": "execute_result",
     "data": {
      "text/plain": [
       "array(['Ohio', 'Idaho', 'Michigan', 'New Jersey', 'Washington',\n",
       "       'California', 'Arizona', 'Pennsylvania', 'District of Columbia',\n",
       "       'North Carolina', 'Minnesota', 'Massachusetts', 'Utah', 'New York',\n",
       "       'Texas', 'Missouri', 'Florida', 'Louisiana', 'Iowa', 'Delaware',\n",
       "       'South Dakota', 'Oregon', 'Wisconsin', 'Rhode Island', 'Montana',\n",
       "       'Illinois', 'Tennessee', 'New Mexico', 'Alaska', 'Nebraska',\n",
       "       'Colorado', 'Maryland', 'Oklahoma', 'South Carolina', 'Kentucky',\n",
       "       'Indiana', 'Maine', 'Georgia', 'PR', 'Kansas', 'Virginia',\n",
       "       'Nevada', 'Mississippi', 'New Hampshire', 'Connecticut', 'Alabama',\n",
       "       'Hawaii', 'Vermont', 'Arkansas', 'North Dakota', 'Wyoming', 'GU',\n",
       "       'West Virginia', 'VI'], dtype=object)"
      ]
     },
     "metadata": {},
     "execution_count": 142
    }
   ],
   "source": [
    "df.BorrState.unique()"
   ]
  },
  {
   "source": [
    "# industry"
   ],
   "cell_type": "markdown",
   "metadata": {}
  },
  {
   "cell_type": "code",
   "execution_count": 143,
   "metadata": {},
   "outputs": [],
   "source": [
    "naics = pd.read_csv(\"NAICS industry data.csv\")"
   ]
  },
  {
   "cell_type": "code",
   "execution_count": 144,
   "metadata": {},
   "outputs": [
    {
     "output_type": "stream",
     "name": "stdout",
     "text": [
      "<class 'pandas.core.frame.DataFrame'>\nRangeIndex: 24 entries, 0 to 23\nData columns (total 2 columns):\n #   Column       Non-Null Count  Dtype \n---  ------       --------------  ----- \n 0   Sector       24 non-null     int64 \n 1   Description  24 non-null     object\ndtypes: int64(1), object(1)\nmemory usage: 512.0+ bytes\n"
     ]
    }
   ],
   "source": [
    "naics.info()"
   ]
  },
  {
   "cell_type": "code",
   "execution_count": 145,
   "metadata": {},
   "outputs": [
    {
     "output_type": "stream",
     "name": "stdout",
     "text": [
      "<class 'pandas.core.frame.DataFrame'>\nIndex: 35295 entries, 433490 to 545748\nData columns (total 17 columns):\n #   Column                 Non-Null Count  Dtype  \n---  ------                 --------------  -----  \n 0   BorrName               35295 non-null  object \n 1   BorrState              35295 non-null  object \n 2   GrossApproval          35295 non-null  int64  \n 3   SBAGuaranteedApproval  35295 non-null  float64\n 4   ApprovalFiscalYear     35295 non-null  int64  \n 5   loan_type              35295 non-null  object \n 6   InitialInterestRate    35295 non-null  float64\n 7   TermInMonths           35295 non-null  int64  \n 8   NaicsCode              35295 non-null  float64\n 9   NaicsDescription       35295 non-null  object \n 10  ProjectState           35295 non-null  object \n 11  BusinessType           35295 non-null  object \n 12  BusinessAge            35295 non-null  object \n 13  LoanStatus             35295 non-null  object \n 14  GrossChargeOffAmount   35295 non-null  int64  \n 15  RevolverStatus         35295 non-null  int64  \n 16  Franchise              35295 non-null  int32  \ndtypes: float64(3), int32(1), int64(5), object(8)\nmemory usage: 4.7+ MB\n"
     ]
    }
   ],
   "source": [
    "df.info()"
   ]
  },
  {
   "cell_type": "code",
   "execution_count": null,
   "metadata": {},
   "outputs": [],
   "source": []
  },
  {
   "cell_type": "code",
   "execution_count": 146,
   "metadata": {},
   "outputs": [],
   "source": [
    "df.rename(columns = {'NaicsCode':'industry'}, inplace = True) \n"
   ]
  },
  {
   "cell_type": "code",
   "execution_count": 147,
   "metadata": {},
   "outputs": [],
   "source": [
    "df[\"industry\"] = pd.to_numeric(df[\"industry\"].astype(str).str[:2], errors='coerce')\n",
    "\n",
    "# Create a mapping dictionary from NAICS DataFrame\n",
    "mapping_dict = dict(zip( naics[\"Sector\"], naics[\"Description\"] ))\n",
    "\n",
    "# Replace values in the \"industry\" column using the mapping dictionary\n",
    "df[\"industry\"] = df[\"industry\"].replace(mapping_dict)"
   ]
  },
  {
   "cell_type": "code",
   "execution_count": 148,
   "metadata": {},
   "outputs": [
    {
     "output_type": "execute_result",
     "data": {
      "text/plain": [
       "industry\n",
       "Accommodation and food services                                             4677\n",
       "Construction                                                                4554\n",
       "Retail trade                                                                3838\n",
       "Professional, scientific, and technical services                            3220\n",
       "Other services (except public administration)                               2958\n",
       "Transportation and warehousing                                              2916\n",
       "Health care and social assistance                                           2868\n",
       "Manufacturing                                                               2433\n",
       "Wholesale trade                                                             1831\n",
       "Administrative and support and waste management and remediation services    1720\n",
       "Arts, entertainment, and recreation                                         1228\n",
       "Real estate and rental and leasing                                           814\n",
       "Finance and insurance                                                        737\n",
       "Educational services                                                         532\n",
       "Agriculture, forestry, fishing and hunting                                   527\n",
       "Information                                                                  290\n",
       "Mining, quarrying, and oil and gas extraction                                 88\n",
       "Management of companies and enterprises                                       31\n",
       "Utilities                                                                     27\n",
       "Public administration                                                          6\n",
       "Name: count, dtype: int64"
      ]
     },
     "metadata": {},
     "execution_count": 148
    }
   ],
   "source": [
    "df[\"industry\"].value_counts()\n"
   ]
  },
  {
   "cell_type": "code",
   "execution_count": 149,
   "metadata": {},
   "outputs": [],
   "source": [
    "df.drop(axis=1, columns =[\"BorrName\",\"NaicsDescription\"], inplace=True)"
   ]
  },
  {
   "source": [
    "# final "
   ],
   "cell_type": "markdown",
   "metadata": {}
  },
  {
   "source": [
    "#  we only have  35425 row of business age , so it is important colunm so we are going with business age  delete all null values"
   ],
   "cell_type": "code",
   "metadata": {},
   "execution_count": 150,
   "outputs": []
  },
  {
   "cell_type": "code",
   "execution_count": 151,
   "metadata": {},
   "outputs": [],
   "source": [
    "df.dropna(inplace=True)"
   ]
  },
  {
   "cell_type": "code",
   "execution_count": 152,
   "metadata": {},
   "outputs": [
    {
     "output_type": "stream",
     "name": "stdout",
     "text": [
      "<class 'pandas.core.frame.DataFrame'>\nIndex: 35295 entries, 433490 to 545748\nData columns (total 15 columns):\n #   Column                 Non-Null Count  Dtype  \n---  ------                 --------------  -----  \n 0   BorrState              35295 non-null  object \n 1   GrossApproval          35295 non-null  int64  \n 2   SBAGuaranteedApproval  35295 non-null  float64\n 3   ApprovalFiscalYear     35295 non-null  int64  \n 4   loan_type              35295 non-null  object \n 5   InitialInterestRate    35295 non-null  float64\n 6   TermInMonths           35295 non-null  int64  \n 7   industry               35295 non-null  object \n 8   ProjectState           35295 non-null  object \n 9   BusinessType           35295 non-null  object \n 10  BusinessAge            35295 non-null  object \n 11  LoanStatus             35295 non-null  object \n 12  GrossChargeOffAmount   35295 non-null  int64  \n 13  RevolverStatus         35295 non-null  int64  \n 14  Franchise              35295 non-null  int32  \ndtypes: float64(2), int32(1), int64(5), object(7)\nmemory usage: 4.2+ MB\n"
     ]
    }
   ],
   "source": [
    "df.info()"
   ]
  },
  {
   "cell_type": "code",
   "execution_count": 534,
   "metadata": {},
   "outputs": [],
   "source": []
  },
  {
   "cell_type": "code",
   "execution_count": 153,
   "metadata": {},
   "outputs": [
    {
     "output_type": "execute_result",
     "data": {
      "text/plain": [
       "Franchise\n",
       "0    31232\n",
       "1     4063\n",
       "Name: count, dtype: int64"
      ]
     },
     "metadata": {},
     "execution_count": 153
    }
   ],
   "source": [
    "df.Franchise.value_counts()"
   ]
  },
  {
   "cell_type": "code",
   "execution_count": 154,
   "metadata": {},
   "outputs": [],
   "source": [
    "df.dropna(inplace=True)"
   ]
  },
  {
   "cell_type": "code",
   "execution_count": 155,
   "metadata": {},
   "outputs": [
    {
     "output_type": "stream",
     "name": "stdout",
     "text": [
      "<class 'pandas.core.frame.DataFrame'>\nIndex: 35295 entries, 433490 to 545748\nData columns (total 15 columns):\n #   Column                 Non-Null Count  Dtype  \n---  ------                 --------------  -----  \n 0   BorrState              35295 non-null  object \n 1   GrossApproval          35295 non-null  int64  \n 2   SBAGuaranteedApproval  35295 non-null  float64\n 3   ApprovalFiscalYear     35295 non-null  int64  \n 4   loan_type              35295 non-null  object \n 5   InitialInterestRate    35295 non-null  float64\n 6   TermInMonths           35295 non-null  int64  \n 7   industry               35295 non-null  object \n 8   ProjectState           35295 non-null  object \n 9   BusinessType           35295 non-null  object \n 10  BusinessAge            35295 non-null  object \n 11  LoanStatus             35295 non-null  object \n 12  GrossChargeOffAmount   35295 non-null  int64  \n 13  RevolverStatus         35295 non-null  int64  \n 14  Franchise              35295 non-null  int32  \ndtypes: float64(2), int32(1), int64(5), object(7)\nmemory usage: 4.2+ MB\n"
     ]
    }
   ],
   "source": [
    "df.info()"
   ]
  },
  {
   "cell_type": "code",
   "execution_count": 156,
   "metadata": {},
   "outputs": [],
   "source": [
    "df.to_csv(\"Cleaned_data.csv\", index=False)"
   ]
  },
  {
   "cell_type": "code",
   "execution_count": null,
   "metadata": {},
   "outputs": [],
   "source": []
  }
 ]
}